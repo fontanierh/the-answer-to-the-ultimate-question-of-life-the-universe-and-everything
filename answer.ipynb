{
 "cells": [
  {
   "cell_type": "code",
   "execution_count": 1,
   "metadata": {},
   "outputs": [
    {
     "name": "stdout",
     "output_type": "stream",
     "text": [
      "Better speed can be achieved with apex installed from https://www.github.com/nvidia/apex.\n"
     ]
    }
   ],
   "source": [
    "import numpy as np\n",
    "import torch\n",
    "from torch.nn import functional as F\n",
    "from pytorch_pretrained_bert import GPT2Tokenizer, GPT2LMHeadModel"
   ]
  },
  {
   "cell_type": "code",
   "execution_count": 2,
   "metadata": {},
   "outputs": [],
   "source": [
    "tokenizer = GPT2Tokenizer.from_pretrained('gpt2')\n",
    "model = GPT2LMHeadModel.from_pretrained('gpt2')"
   ]
  },
  {
   "cell_type": "code",
   "execution_count": 9,
   "metadata": {},
   "outputs": [
    {
     "name": "stdout",
     "output_type": "stream",
     "text": [
      "***** SAMPLE 1 *****\n",
      "the answer to the ultimate question of life the universe and everything is a different world in another universe. The beautiful thing about life as we know it is that life is nothing more than the ability to overcome the uncontrollable amount of the decision has to have taken, thus ever again remaining untouched in less time and space.\n",
      "\n",
      "***** SAMPLE 2 *****\n",
      "the answer to the ultimate question of life the universe and everything is that we so tightly tie this all up that life does indeed exist but because it cannot be non-existent to the Who of this difference it cannot be instantiated, it does not form a lethal reality but only in an individual of its force. From\n",
      "\n",
      "***** SAMPLE 3 *****\n",
      "the answer to the ultimate question of life the universe and everything is: There must be more to life. If you are going to choose life at this moment, you must work as a truth-teller stretching what you think is an answer to it.\n",
      "\n",
      "There is a price to be paid in materialisation\n",
      "\n",
      "***** SAMPLE 4 *****\n",
      "the answer to the ultimate question of life the universe and everything is to digital code and help build the perfect species of God into what many call the \"manifest destiny model\".\n",
      "\n",
      "Today something huge has been done to support women as the beta males in the Gnosis System - so there is very little space to\n",
      "\n",
      "***** SAMPLE 5 *****\n",
      "the answer to the ultimate question of life the universe and everything is about to get a bit complicated. One reason why life was so … complicated is it involves many complicated interactions and so the entirety of our solar system and all its matter and energy and the physical phenomena of the Universe and all that comes with it. Conversely\n",
      "\n",
      "***** SAMPLE 6 *****\n",
      "the answer to the ultimate question of life the universe and everything is created spontaneously.\n",
      "\n",
      "Why are not there revelations, proper truths, clear secrets to which I believe if a man states this clearly to others? Why art and science, and of course philosophers, are in accord with this question of truth while not proposing\n",
      "\n",
      "***** SAMPLE 7 *****\n",
      "the answer to the ultimate question of life the universe and everything is composed of life and not sand (ancient read, Medieval First Church development. Dr Kuttner).\n",
      "\n",
      "Representations of various phenomena from different types of people have been made in noted Christian congregations in Innsbruck and Rincon.\n",
      "\n",
      "***** SAMPLE 8 *****\n",
      "the answer to the ultimate question of life the universe and everything is 'whereas Silence Already Ends'.\" This film makes the ultimate claim to be his greatest work of storytelling and consciousness unless vouched for. Ronin can seem to have his spell on psychedelics for bioluminescence. We hear from Gary\n",
      "\n",
      "***** SAMPLE 9 *****\n",
      "the answer to the ultimate question of life the universe and everything is one.'\n",
      "\n",
      "'And the nature of the mechanical and the ventilation system destroys materials.'\n",
      "\n",
      "'This is not already the conventional narrative of small neighbourhoods victorious over giant corporations. But this is a hydrologic story and yet the nearly complete unravel\n",
      "\n",
      "***** SAMPLE 10 *****\n",
      "the answer to the ultimate question of life the universe and everything is God because it is clear, yet it is difficult. Then there are some God different stories from other ones that don't understand. The big problem there is what happens when you catch on to the origin story. The other problem is and it gets worse\n",
      "\n"
     ]
    }
   ],
   "source": [
    "source_text = 'the answer to the ultimate question of life the universe and everything is'\n",
    "\n",
    "length = 50\n",
    "number_of_samples = 10\n",
    "\n",
    "samples = []\n",
    "\n",
    "for _ in range(number_of_samples):\n",
    "    text = tokenizer.encode(source_text)\n",
    "    i, past = torch.tensor([text]), None\n",
    "    for _ in range(length):\n",
    "        logits, past = model(i, past=past)\n",
    "        log_probs = F.softmax(logits, dim=-1)\n",
    "        i = torch.multinomial(F.softmax(logits[:, -1], dim=-1), 1)\n",
    "        text.append(i.item())\n",
    "    samples.append(text)\n",
    "    \n",
    "for index, sample in enumerate([tokenizer.decode(text) for text in samples]):\n",
    "    print(f'***** SAMPLE {index + 1} *****')\n",
    "    print(f'{sample}\\n')"
   ]
  }
 ],
 "metadata": {
  "kernelspec": {
   "display_name": "Python 3",
   "language": "python",
   "name": "python3"
  },
  "language_info": {
   "codemirror_mode": {
    "name": "ipython",
    "version": 3
   },
   "file_extension": ".py",
   "mimetype": "text/x-python",
   "name": "python",
   "nbconvert_exporter": "python",
   "pygments_lexer": "ipython3",
   "version": "3.6.8"
  }
 },
 "nbformat": 4,
 "nbformat_minor": 2
}
